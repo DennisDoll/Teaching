{
 "cells": [
  {
   "cell_type": "markdown",
   "id": "8baae8ff",
   "metadata": {},
   "source": [
    "## Operating hardware"
   ]
  },
  {
   "cell_type": "code",
   "execution_count": null,
   "id": "5607e1b5",
   "metadata": {},
   "outputs": [],
   "source": [
    "from picamera import PiCamera\n",
    "from time import sleep"
   ]
  },
  {
   "cell_type": "markdown",
   "id": "f95c98f4",
   "metadata": {},
   "source": [
    "Taking a picture:"
   ]
  },
  {
   "cell_type": "code",
   "execution_count": null,
   "id": "46a3b069",
   "metadata": {},
   "outputs": [],
   "source": [
    "with PiCamera() as camera:\n",
    "    camera.start_preview()\n",
    "    sleep(2)\n",
    "    camera.caputure('/home/pi/Desktop/test_capture.jpg')\n",
    "    camera.stop_preview()"
   ]
  },
  {
   "cell_type": "markdown",
   "id": "c9371356",
   "metadata": {},
   "source": [
    "Now your task: record a 5 second video!"
   ]
  },
  {
   "cell_type": "code",
   "execution_count": null,
   "id": "fc76d7f0",
   "metadata": {},
   "outputs": [],
   "source": []
  }
 ],
 "metadata": {
  "kernelspec": {
   "display_name": "Python 3",
   "language": "python",
   "name": "python3"
  },
  "language_info": {
   "codemirror_mode": {
    "name": "ipython",
    "version": 3
   },
   "file_extension": ".py",
   "mimetype": "text/x-python",
   "name": "python",
   "nbconvert_exporter": "python",
   "pygments_lexer": "ipython3",
   "version": "3.6.6"
  }
 },
 "nbformat": 4,
 "nbformat_minor": 5
}
