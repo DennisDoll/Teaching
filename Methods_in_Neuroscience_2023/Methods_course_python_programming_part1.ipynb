{
 "cells": [
  {
   "cell_type": "markdown",
   "id": "661a2840",
   "metadata": {},
   "source": [
    "# Introduction to python programming to control and analyze an optogenetic behavioral experiment"
   ]
  },
  {
   "cell_type": "markdown",
   "id": "14f434bb",
   "metadata": {},
   "source": [
    "### Python 101:"
   ]
  },
  {
   "cell_type": "markdown",
   "id": "2d09afaf",
   "metadata": {},
   "source": [
    "#### For good measure, let's start how you're always supposed to start in a new coding environment or programming language:"
   ]
  },
  {
   "cell_type": "code",
   "execution_count": null,
   "id": "289c6a61",
   "metadata": {},
   "outputs": [],
   "source": [
    "print('Hello world')"
   ]
  },
  {
   "cell_type": "markdown",
   "id": "580d67a3",
   "metadata": {},
   "source": [
    "#### Store *things* in variables:"
   ]
  },
  {
   "cell_type": "code",
   "execution_count": null,
   "id": "d8e98264",
   "metadata": {},
   "outputs": [],
   "source": [
    "variable = 'text'"
   ]
  },
  {
   "cell_type": "code",
   "execution_count": null,
   "id": "ea9256cd",
   "metadata": {},
   "outputs": [],
   "source": [
    "variable"
   ]
  },
  {
   "cell_type": "code",
   "execution_count": null,
   "id": "38a768b5",
   "metadata": {},
   "outputs": [],
   "source": [
    "a = 1\n",
    "b = 2\n",
    "\n",
    "c = a + b\n",
    "c"
   ]
  },
  {
   "cell_type": "code",
   "execution_count": null,
   "id": "329b6916",
   "metadata": {},
   "outputs": [],
   "source": [
    "a = 'Neuro'\n",
    "b = 'science'\n",
    "\n",
    "c = a + b\n",
    "c"
   ]
  },
  {
   "cell_type": "code",
   "execution_count": null,
   "id": "8520c4a3",
   "metadata": {},
   "outputs": [],
   "source": [
    "a = 'a string'\n",
    "\n",
    "type(a)"
   ]
  },
  {
   "cell_type": "code",
   "execution_count": null,
   "id": "3e815496",
   "metadata": {},
   "outputs": [],
   "source": [
    "e"
   ]
  },
  {
   "cell_type": "code",
   "execution_count": null,
   "id": "6034c523",
   "metadata": {
    "scrolled": true
   },
   "outputs": [],
   "source": [
    "b = 1\n",
    "c = 1.0\n",
    "d = False\n",
    "e = None\n",
    "\n",
    "print(type(b))\n",
    "print(type(c))\n",
    "print(type(d))\n",
    "print(type(e))"
   ]
  },
  {
   "cell_type": "code",
   "execution_count": null,
   "id": "3ea15c24",
   "metadata": {},
   "outputs": [],
   "source": [
    "a, b = 5, 'optogenetics'\n",
    "print('This is a:')\n",
    "print(a)\n",
    "print('This is b:')\n",
    "print(b)"
   ]
  },
  {
   "cell_type": "code",
   "execution_count": null,
   "id": "7f0efd25",
   "metadata": {},
   "outputs": [],
   "source": [
    "# By using these hashtags, you can also write comments right in your code sections\n",
    "# There is a more straightforward & very usefull way to convert your variables into (printable) strings,\n",
    "# which is using so called f-strings. You simply put a f infront of your string and whatever you place\n",
    "# in curly brackets inside that string will be treated as variable & python retrieves its value and\n",
    "# converts it into a string:\n",
    "f'This is a: {a}'"
   ]
  },
  {
   "cell_type": "code",
   "execution_count": null,
   "id": "de088126",
   "metadata": {},
   "outputs": [],
   "source": [
    "print(f'This is a: {a}')\n",
    "print(f'This is b: {b}')"
   ]
  },
  {
   "cell_type": "markdown",
   "id": "a7e9b763",
   "metadata": {},
   "source": [
    "#### These are the very basic and most fundamental types: `int`, `float`, `str`, and `bool` ( and `None`)\n",
    "\n",
    "#### However, there are endless other types - since Python allows you to create your own types as well (object oriented programming)\n",
    "\n",
    "#### Let's have a look at some other, very fundamental types in python: `list`, `tuple`, and `dict`:"
   ]
  },
  {
   "cell_type": "code",
   "execution_count": null,
   "id": "03822043",
   "metadata": {},
   "outputs": [],
   "source": [
    "a_list = ['a', 'list', 'is', 'nothing', 'but', 'a', 'collection', 'of', 'stuff', 'separated', 'by', 'commas', 'and', 'enclosed', 'in', 'square brackets']"
   ]
  },
  {
   "cell_type": "code",
   "execution_count": null,
   "id": "14191931",
   "metadata": {},
   "outputs": [],
   "source": [
    "a_list"
   ]
  },
  {
   "cell_type": "markdown",
   "id": "db17acd8",
   "metadata": {},
   "source": [
    "#### The cool thing about lists is, that you can store whatever you like in them and retrieve element by element:\n",
    "\n",
    "(By the way: Python **always** starts counting at 0!)"
   ]
  },
  {
   "cell_type": "code",
   "execution_count": null,
   "id": "bb88fb37",
   "metadata": {},
   "outputs": [],
   "source": [
    "a_list[0]"
   ]
  },
  {
   "cell_type": "code",
   "execution_count": null,
   "id": "3a9a62d2",
   "metadata": {},
   "outputs": [],
   "source": [
    "a_list[1]"
   ]
  },
  {
   "cell_type": "code",
   "execution_count": null,
   "id": "0719ffc0",
   "metadata": {},
   "outputs": [],
   "source": [
    "a_list[-2]"
   ]
  },
  {
   "cell_type": "code",
   "execution_count": null,
   "id": "82f31532",
   "metadata": {},
   "outputs": [],
   "source": [
    "a_list[5]"
   ]
  },
  {
   "cell_type": "code",
   "execution_count": null,
   "id": "92383cb3",
   "metadata": {},
   "outputs": [],
   "source": [
    "a_list[0:5]"
   ]
  },
  {
   "cell_type": "code",
   "execution_count": null,
   "id": "4d253a74",
   "metadata": {},
   "outputs": [],
   "source": [
    "a_list[0]"
   ]
  },
  {
   "cell_type": "code",
   "execution_count": null,
   "id": "4bab76d0",
   "metadata": {},
   "outputs": [],
   "source": [
    "a_list[0] = 17\n",
    "a_list[0]"
   ]
  },
  {
   "cell_type": "markdown",
   "id": "0d9a1acd",
   "metadata": {},
   "source": [
    "Between `lists` and `tuples` there is one crucial difference: `tuples` are immutuable - so you can't change its elements like you can with lists:"
   ]
  },
  {
   "cell_type": "code",
   "execution_count": null,
   "id": "66113dab",
   "metadata": {},
   "outputs": [],
   "source": [
    "a_tuple = (1, 3, 'brain', ['we_can_also_add_lists_as_elements', 8, 9])"
   ]
  },
  {
   "cell_type": "code",
   "execution_count": null,
   "id": "eb2f4589",
   "metadata": {},
   "outputs": [],
   "source": [
    "a_tuple[0]"
   ]
  },
  {
   "cell_type": "code",
   "execution_count": null,
   "id": "ff84f4c9",
   "metadata": {},
   "outputs": [],
   "source": [
    "a_tuple[3]"
   ]
  },
  {
   "cell_type": "markdown",
   "id": "53955e34",
   "metadata": {},
   "source": [
    "Since this is a list, we can continue accessing these elements: "
   ]
  },
  {
   "cell_type": "code",
   "execution_count": null,
   "id": "ff19bc84",
   "metadata": {},
   "outputs": [],
   "source": [
    "a_tuple[3][0]"
   ]
  },
  {
   "cell_type": "code",
   "execution_count": null,
   "id": "8af9f555",
   "metadata": {},
   "outputs": [],
   "source": [
    "a_tuple[0] = 'lets_try_to_change_it'"
   ]
  },
  {
   "cell_type": "markdown",
   "id": "db08b6a1",
   "metadata": {},
   "source": [
    "**Important take home message:**\n",
    "\n",
    "**Receiving error messages while coding on a project is absolutely normal**. Just like when troubleshooting a wet-lab experiment, running into errors will be part of the process. In contrast to wet-lab work, however, you get these errors instantaneously & they (usually) don't come with any consequences - you can simply attempt to debug your code an re-run it over and over again until you managed to fix it! For this, it will also become very relevant to understand how to read the \"Traceback\", but we will get to this later.."
   ]
  },
  {
   "cell_type": "markdown",
   "id": "9b81d676",
   "metadata": {},
   "source": [
    "A very convenient feature about lists and tuples is that they are so-called *iterables*. This means, we can use standard python syntax to iterate through them. Typically, this is done using a `for`-loop:"
   ]
  },
  {
   "cell_type": "code",
   "execution_count": null,
   "id": "1bd99967",
   "metadata": {},
   "outputs": [],
   "source": [
    "# You can loop through iterables element-wise:\n",
    "another_list = ['first', 'second', 'third']\n",
    "for element in another_list:\n",
    "    print(element)"
   ]
  },
  {
   "cell_type": "code",
   "execution_count": null,
   "id": "1ffa37e8",
   "metadata": {},
   "outputs": [],
   "source": [
    "# or you can use the indexing to retrieve individual elements\n",
    "# the easiest way to do this is by using the range() function to create a series of integers \n",
    "for index in range(4):\n",
    "    print(index)"
   ]
  },
  {
   "cell_type": "code",
   "execution_count": null,
   "id": "4565aaff",
   "metadata": {},
   "outputs": [],
   "source": [
    "# typically, this is combined with retrieving the length of the list\n",
    "len(another_list)"
   ]
  },
  {
   "cell_type": "code",
   "execution_count": null,
   "id": "7970bd61",
   "metadata": {},
   "outputs": [],
   "source": [
    "all_species = ['dog', 'cat', 'fox']\n",
    "all_fur_colors = ('black', 'white', 'red')\n",
    "for index in range(len(all_species)):\n",
    "    species = all_species[index]\n",
    "    fur_color = all_fur_colors[index]\n",
    "    print(f'The fur color of the {species} is {fur_color}.')\n",
    "    "
   ]
  },
  {
   "cell_type": "markdown",
   "id": "63e17477",
   "metadata": {},
   "source": [
    "Finally, we also have dictionaries. Just like real-word dictionaries, they are built up of `key`:`value` pairs, which makes them work a little different compared to lists and tuples. Spoiler: Because of this, they are extremely usefull to increase the readability of your code!"
   ]
  },
  {
   "cell_type": "code",
   "execution_count": null,
   "id": "aa557293",
   "metadata": {},
   "outputs": [],
   "source": [
    "snoopy = {'species': 'dog', \n",
    "          'fur_color': 'black and white',\n",
    "          'age': '8 years'}"
   ]
  },
  {
   "cell_type": "code",
   "execution_count": null,
   "id": "8567bd96",
   "metadata": {},
   "outputs": [],
   "source": [
    "snoopy[0]"
   ]
  },
  {
   "cell_type": "markdown",
   "id": "1566cb3d",
   "metadata": {},
   "source": [
    "Dictionaries work a little different compared to lists and tuples, since you can't use an elements index to retrieve it. Instead, you are always using the `key` to access the corresponding stored `value`:"
   ]
  },
  {
   "cell_type": "code",
   "execution_count": null,
   "id": "8a6e2e28",
   "metadata": {},
   "outputs": [],
   "source": [
    "snoopy['species']"
   ]
  },
  {
   "cell_type": "markdown",
   "id": "83db9cd4",
   "metadata": {},
   "source": [
    "Iterating through dictionaries therefore also works a little different from iterating through lists or tuples. To achieve this, we will make use of some functions that automatically come with a dictionary (we will take a closer look at this syntax later on):"
   ]
  },
  {
   "cell_type": "code",
   "execution_count": null,
   "id": "622f13ad",
   "metadata": {},
   "outputs": [],
   "source": [
    "snoopy.values()"
   ]
  },
  {
   "cell_type": "code",
   "execution_count": null,
   "id": "d42e36c3",
   "metadata": {
    "scrolled": true
   },
   "outputs": [],
   "source": [
    "snoopy.keys()"
   ]
  },
  {
   "cell_type": "markdown",
   "id": "a1a035e7",
   "metadata": {},
   "source": [
    "Essentially, `snoopy.keys()` gives us a list-like object, so we can re-use the same syntax we used for iterating through elements of a list, this time retrieving one `key` at a time:"
   ]
  },
  {
   "cell_type": "code",
   "execution_count": null,
   "id": "ed78b2ab",
   "metadata": {},
   "outputs": [],
   "source": [
    "for key in snoopy.keys():\n",
    "    print(f'The retrieved key is: {key}')\n",
    "    # we can now use the key to retrieve the associated value from the dictionary\n",
    "    value = snoopy[key]\n",
    "    print(f'The retrieved value is: {value}')"
   ]
  },
  {
   "cell_type": "markdown",
   "id": "00dad9d8",
   "metadata": {},
   "source": [
    "Finally, there is one more way to do it - which is usually the most convenient way to do it:"
   ]
  },
  {
   "cell_type": "code",
   "execution_count": null,
   "id": "7d97c4c9",
   "metadata": {},
   "outputs": [],
   "source": [
    "# This returns a list-like object with nested tuples that contain the key-value pairs:\n",
    "snoopy.items()"
   ]
  },
  {
   "cell_type": "code",
   "execution_count": null,
   "id": "273084aa",
   "metadata": {},
   "outputs": [],
   "source": [
    "# Remember that we could assign two variables at the same time? a, b = 5, 'optogenetics' ?\n",
    "# We will use this again here:\n",
    "for key, value in snoopy.items():\n",
    "    print(f'This is the key: {key}')\n",
    "    print(f'This is the value: {value}')"
   ]
  },
  {
   "cell_type": "markdown",
   "id": "c5066328",
   "metadata": {},
   "source": [
    "**When to use what??**\n",
    "\n",
    "It really depends on the concrete task you're currently trying to accomplish when decide on using a list, tuple, or a dictionary. A good example for when you usually use lists is when you simply want to iterate over a certain batch of elements and don't need to access specific elements out of the list, like we did above. On the other hand, dictionaries are usually more usefull if you would like to store certain things which you want to retrieve independently of each other & really specifically, i.e. without iterating over all elements of the entire dictionary. This is of course also possible with a list, but would require you to remember the corresponding numerical index of each element. On the contrary, it's usually much easier to remember a specific key than the index of the element you'd like to retrieve again (not to mention the readability for others). Let's look at a short example:"
   ]
  },
  {
   "cell_type": "markdown",
   "id": "499e11ef",
   "metadata": {},
   "source": [
    "We have (for whatever reason) three animals with some features that describe them, like what species they are, what is the color of their fur and how old they are. We must store all this information in a single variable and then retrieve the specific information of a single animal afterwards (typical example of interfacing two parts of your code):"
   ]
  },
  {
   "cell_type": "code",
   "execution_count": null,
   "id": "94a44eef",
   "metadata": {},
   "outputs": [],
   "source": [
    "# Nested lists:\n",
    "# Schematic is: name, species, fur_color, age\n",
    "garfield = ['Garfield', 'cat', 'orange', '13 years']\n",
    "snoopy = ['Snoopy', 'dog', 'black and white', '8 years']\n",
    "winnie_the_pooh = ['Winnie the Pooh', 'bear', 'yellow', '2 years']\n",
    "animals = [garfield, snoopy, winnie_the_pooh]"
   ]
  },
  {
   "cell_type": "code",
   "execution_count": null,
   "id": "036ad107",
   "metadata": {},
   "outputs": [],
   "source": [
    "# Task: print the age and the fur color of Snoopy using the animals variable:\n",
    "fur_color = animals[1][2]\n",
    "age = animals[1][3]"
   ]
  },
  {
   "cell_type": "code",
   "execution_count": null,
   "id": "13bcf814",
   "metadata": {},
   "outputs": [],
   "source": [
    "print(f'Hi there - I am Snoopy! I am {age} old and my fur is colored {fur_color}!')"
   ]
  },
  {
   "cell_type": "code",
   "execution_count": null,
   "id": "dfc131c3",
   "metadata": {},
   "outputs": [],
   "source": [
    "# Nested dictionaries:\n",
    "garfield = {'species': 'cat', \n",
    "            'fur_color': 'orange',\n",
    "            'age': '13 years'}\n",
    "\n",
    "snoopy = {'species': 'dog', \n",
    "          'fur_color': 'black and white',\n",
    "          'age': '8 years'}\n",
    "\n",
    "winnie_the_pooh = {'species': 'bear',\n",
    "                   'fur_color': 'yellow',\n",
    "                   'age': '2 years'}\n",
    "\n",
    "animals = {'Garfield': garfield,\n",
    "           'Snoopy': snoopy,\n",
    "           'Winnie_the_Pooh': winnie_the_pooh}"
   ]
  },
  {
   "cell_type": "code",
   "execution_count": null,
   "id": "40cdf4d0",
   "metadata": {},
   "outputs": [],
   "source": [
    "# Now try the same thing (age and fur color of Snoopy only from animals) again using the nested dicts:\n",
    "fur_color = animals['Snoopy']['fur_color']\n",
    "age = animals['Snoopy']['age']"
   ]
  },
  {
   "cell_type": "code",
   "execution_count": null,
   "id": "4646eca3",
   "metadata": {},
   "outputs": [],
   "source": [
    "print(f'Hi there - I am Snoopy! I am {age} old and my fur is colored {fur_color}!')"
   ]
  },
  {
   "cell_type": "markdown",
   "id": "9857d441",
   "metadata": {},
   "source": [
    "#### Okay, before we can get started, there are three more things that we need to talk about:\n",
    "    1) functions, i.e. chunks of code that fullfills a certain (ideally very narrowly) defined task\n",
    "    2) classes and objects, after all, python is an object-oriented programming language\n",
    "    3) packages, i.e. open-source code provided to you for free by other python developers"
   ]
  },
  {
   "cell_type": "markdown",
   "id": "42ba9c3b",
   "metadata": {},
   "source": [
    "### Functions:"
   ]
  },
  {
   "cell_type": "markdown",
   "id": "7d69159b",
   "metadata": {},
   "source": [
    "Functions help you to essentially store a chunk of code in a single callable variable (= function), to easily re-use it while keep your code easily readable. In fact, we have already used some of the in-built functions of python, like `print()`, `range()`, or `len()`"
   ]
  },
  {
   "cell_type": "code",
   "execution_count": null,
   "id": "fe39c049",
   "metadata": {},
   "outputs": [],
   "source": [
    "def add_two_numbers(a, b):\n",
    "    result = a + b\n",
    "    return result"
   ]
  },
  {
   "cell_type": "code",
   "execution_count": null,
   "id": "707c63ca",
   "metadata": {},
   "outputs": [],
   "source": [
    "add_two_numbers(a = 5, b = 10)"
   ]
  },
  {
   "cell_type": "code",
   "execution_count": null,
   "id": "e612e118",
   "metadata": {},
   "outputs": [],
   "source": [
    "# In python, arguments (= the things you pass to a function) are [usually] positional\n",
    "add_two_numbers(4, 9)"
   ]
  },
  {
   "cell_type": "code",
   "execution_count": null,
   "id": "74ba4be9",
   "metadata": {},
   "outputs": [],
   "source": [
    "add_two_numbers('Neuro', 'science')"
   ]
  },
  {
   "cell_type": "code",
   "execution_count": null,
   "id": "005f227b",
   "metadata": {},
   "outputs": [],
   "source": [
    "def add_two_integers(a: int, b: int) -> int:\n",
    "    result = a + b\n",
    "    return result"
   ]
  },
  {
   "cell_type": "code",
   "execution_count": null,
   "id": "16d705fa",
   "metadata": {},
   "outputs": [],
   "source": [
    "add_two_integers(a = 'Opto', b = 'genetics')"
   ]
  },
  {
   "cell_type": "markdown",
   "id": "c8a7779f",
   "metadata": {},
   "source": [
    "Type hinting is a very usefull resource and is considered best practice for good reasons. However, python does not enforce that the arguments are actually of hinted types. If you want to enforce this, you have to embedd the corresponding tests or asserts in your code. But for the sake of time, we will not touch on this today.. "
   ]
  },
  {
   "cell_type": "markdown",
   "id": "ca658b30",
   "metadata": {},
   "source": [
    "### Classes and objects:"
   ]
  },
  {
   "cell_type": "markdown",
   "id": "d3e7428f",
   "metadata": {},
   "source": [
    "The concept of classes and objects is, to be honest, amazing. They allow you to create your own, custom-designed tools, data-containers, and interfaces - which will elevate your code quality to another level. So how do they work?\n",
    "\n",
    "Classes represent the blueprint of how an object should (and will) look like, whereas an object is then the variable that was constructed using the aforementioned blueprint:"
   ]
  },
  {
   "cell_type": "code",
   "execution_count": null,
   "id": "6e854901",
   "metadata": {},
   "outputs": [],
   "source": [
    "# This represents the blueprint of the \"Animal\" class\n",
    "class Animal:\n",
    "    \n",
    "    # Functions defined within a class are called methods\n",
    "    # One special method is the __init__ method, \n",
    "    # which is automatically called when the object is created\n",
    "    def __init__(self, name: str, age_in_years: int) -> None:\n",
    "        self.name = name\n",
    "        self.age = age_in_years\n",
    "        \n",
    "    # Note that all methods of a class need to get \"self\" as the first argument\n",
    "    # This is just how the syntax of classes works - just get used to it :D\n",
    "    # self represents the entire object, so it enables you to access everything associated to it\n",
    "    def celebrate_birthday(self) -> None:\n",
    "        self.age = self.age + 1"
   ]
  },
  {
   "cell_type": "code",
   "execution_count": null,
   "id": "4768ba34",
   "metadata": {},
   "outputs": [],
   "source": [
    "# We can instantiate an object calling the constructor of the class:\n",
    "snoopy = Animal(name = 'Snoopy', age_in_years = 8)"
   ]
  },
  {
   "cell_type": "code",
   "execution_count": null,
   "id": "343d7322",
   "metadata": {},
   "outputs": [],
   "source": [
    "# Now we are coming back to the . syntax we saw before\n",
    "# This tells python to look one layer deeper into the object and \n",
    "# retrieve attributes, methods, or whatever might be associated with the\n",
    "# variable we are using the . on:\n",
    "snoopy.age"
   ]
  },
  {
   "cell_type": "code",
   "execution_count": null,
   "id": "0d6ad2ce",
   "metadata": {},
   "outputs": [],
   "source": [
    "snoopy.celebrate_birthday()"
   ]
  },
  {
   "cell_type": "code",
   "execution_count": null,
   "id": "d5800737",
   "metadata": {},
   "outputs": [],
   "source": [
    "snoopy.age"
   ]
  },
  {
   "cell_type": "markdown",
   "id": "d0ba4031",
   "metadata": {},
   "source": [
    "### Packages"
   ]
  },
  {
   "cell_type": "markdown",
   "id": "e28acb32",
   "metadata": {},
   "source": [
    "There are thousands (probably millions) of open-source python packages out there, each containing code that you can download, install, and use for free in your own projects. For most of your work, you will probably try to find a professionally developed python package that fullfills the task you're trying to accomplish. Like matplotlib is a very popular package to plot graphs in python:"
   ]
  },
  {
   "cell_type": "code",
   "execution_count": null,
   "id": "39ec16f0",
   "metadata": {},
   "outputs": [],
   "source": [
    "# After downloading and installing a package, you simply import it to your current script\n",
    "# For commonly used python packages, there is usually also a typical way of how they are imported and used\n",
    "# In case of matplotlib, it is usually done as:\n",
    "import matplotlib.pyplot as plt\n",
    "\n",
    "# so we import just the \"pyplot\" subpart, and we can now refer to it as \"plt\" in our code:"
   ]
  },
  {
   "cell_type": "code",
   "execution_count": null,
   "id": "03fc4b01",
   "metadata": {},
   "outputs": [],
   "source": [
    "# Now you have access to all functions that come with it, like to create for instance a lineplot:\n",
    "x_values = [0, 1, 2, 3, 4]\n",
    "y_values = [0, 1, 2, 3, 4]\n",
    "\n",
    "# obvisously, this requires that you know what functions it has\n",
    "# where they can be found (see how we are using the . syntax again to navigate deeper into the package)\n",
    "# and how they can be called. All these information can be found in the associated \n",
    "# documentation of these packages\n",
    "plt.plot(x_values, y_values)\n",
    "plt.show()"
   ]
  },
  {
   "cell_type": "markdown",
   "id": "899afb57",
   "metadata": {},
   "source": [
    "## Okay - that's it with the basics. Let's get started with our experimental data!"
   ]
  }
 ],
 "metadata": {
  "kernelspec": {
   "display_name": "Python 3",
   "language": "python",
   "name": "python3"
  },
  "language_info": {
   "codemirror_mode": {
    "name": "ipython",
    "version": 3
   },
   "file_extension": ".py",
   "mimetype": "text/x-python",
   "name": "python",
   "nbconvert_exporter": "python",
   "pygments_lexer": "ipython3",
   "version": "3.6.6"
  }
 },
 "nbformat": 4,
 "nbformat_minor": 5
}
